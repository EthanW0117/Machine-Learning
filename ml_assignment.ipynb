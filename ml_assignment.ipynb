{
  "nbformat": 4,
  "nbformat_minor": 0,
  "metadata": {
    "kernelspec": {
      "display_name": "Python [conda env:mie451-assignment-ml]",
      "language": "python",
      "name": "conda-env-mie451-assignment-ml-py"
    },
    "language_info": {
      "codemirror_mode": {
        "name": "ipython",
        "version": 3
      },
      "file_extension": ".py",
      "mimetype": "text/x-python",
      "name": "python",
      "nbconvert_exporter": "python",
      "pygments_lexer": "ipython3",
      "version": "3.6.6"
    },
    "colab": {
      "name": "ml_assignment.ipynb",
      "provenance": [],
      "collapsed_sections": [],
      "toc_visible": true
    }
  },
  "cells": [
    {
      "cell_type": "code",
      "metadata": {
        "id": "B3NEe4BojNQs",
        "outputId": "917d6678-e157-4aa9-b977-1f8e77652bd1",
        "colab": {
          "base_uri": "https://localhost:8080/",
          "height": 196
        }
      },
      "source": [
        "!pip install wget"
      ],
      "execution_count": 1,
      "outputs": [
        {
          "output_type": "stream",
          "text": [
            "Collecting wget\n",
            "  Downloading https://files.pythonhosted.org/packages/47/6a/62e288da7bcda82b935ff0c6cfe542970f04e29c756b0e147251b2fb251f/wget-3.2.zip\n",
            "Building wheels for collected packages: wget\n",
            "  Building wheel for wget (setup.py) ... \u001b[?25l\u001b[?25hdone\n",
            "  Created wheel for wget: filename=wget-3.2-cp36-none-any.whl size=9682 sha256=3d0506461e503a73a73e4c657157b27bf08cd34966879b520c4cd206a5e3fe24\n",
            "  Stored in directory: /root/.cache/pip/wheels/40/15/30/7d8f7cea2902b4db79e3fea550d7d7b85ecb27ef992b618f3f\n",
            "Successfully built wget\n",
            "Installing collected packages: wget\n",
            "Successfully installed wget-3.2\n"
          ],
          "name": "stdout"
        }
      ]
    },
    {
      "cell_type": "code",
      "metadata": {
        "id": "CrWhZK_sjJWd"
      },
      "source": [
        "import os\n",
        "import re\n",
        "from pathlib import Path\n",
        "import nltk\n",
        "from nltk.tokenize import RegexpTokenizer\n",
        "from nltk.tokenize import *\n",
        "from collections import Counter\n",
        "import pandas as pd\n",
        "from sklearn.linear_model import LogisticRegression\n",
        "from sklearn.naive_bayes import GaussianNB, BernoulliNB, MultinomialNB\n",
        "from sklearn.model_selection import train_test_split\n",
        "from sklearn.metrics import accuracy_score, confusion_matrix\n",
        "from sklearn.exceptions import ConvergenceWarning\n",
        "import numpy as np\n",
        "from scipy import stats\n",
        "import matplotlib\n",
        "import matplotlib.pyplot as plt\n",
        "%matplotlib inline  \n",
        "import random\n",
        "import wget\n",
        "random.seed()\n",
        "import warnings\n",
        "warnings.filterwarnings(\"ignore\", category=FutureWarning)\n",
        "warnings.filterwarnings(\"ignore\", category=ConvergenceWarning)"
      ],
      "execution_count": 2,
      "outputs": []
    },
    {
      "cell_type": "code",
      "metadata": {
        "id": "ccMNbLzljJWl"
      },
      "source": [
        "filename = wget.download(\"https://github.com/MIE451-1513-2019/course-datasets/raw/master/20_newsgroups.zip\", \"20_newsgroups.zip\")\n",
        "!unzip 20_newsgroups.zip\n",
        "DATA_DIR = \"20_newsgroups\""
      ],
      "execution_count": null,
      "outputs": []
    },
    {
      "cell_type": "code",
      "metadata": {
        "id": "JkLD5DQ4Iefq"
      },
      "source": [
        "DATA_DIR = \"20_newsgroups\""
      ],
      "execution_count": 4,
      "outputs": []
    },
    {
      "cell_type": "markdown",
      "metadata": {
        "id": "ZAOneB4BjJWq"
      },
      "source": [
        "## Functions from lab"
      ]
    },
    {
      "cell_type": "code",
      "metadata": {
        "id": "isVIWKz5jJWr"
      },
      "source": [
        "def clean_file_text(text):\n",
        "    new_text = re.sub(\"Newsgroups:.*?\\n\", \"\", text)\n",
        "    new_text = re.sub(\"Xref:.*?\\n\", \"\", new_text)\n",
        "    new_text = re.sub(\"Path:.*?\\n\", \"\", new_text)\n",
        "    new_text = re.sub(\"Date:.*?\\n\", \"\", new_text)\n",
        "    new_text = re.sub(\"Followup-To:.*?\\n\", \"\", new_text)\n",
        "    return new_text"
      ],
      "execution_count": 46,
      "outputs": []
    },
    {
      "cell_type": "code",
      "metadata": {
        "id": "0HHTRr8CjJWv"
      },
      "source": [
        "def corpus_count_words(file_list):\n",
        "    tokenizer = RegexpTokenizer(r'\\w+')\n",
        "\n",
        "    word_counter = Counter()\n",
        "    for file_path in file_list:\n",
        "        with open(file_path, 'r', encoding='utf-8', errors='ignore') as file:\n",
        "            file_data = file.read()\n",
        "            file_data = clean_file_text(file_data)\n",
        "            file_words = tokenizer.tokenize(file_data)\n",
        "            word_counter.update(file_words)\n",
        "    return word_counter"
      ],
      "execution_count": 47,
      "outputs": []
    },
    {
      "cell_type": "code",
      "metadata": {
        "id": "7WoOMBe_hXHx"
      },
      "source": [
        "def corpus_count_words_new(file_list):\n",
        "    tokenizer = RegexpTokenizer(r'\\w+')\n",
        "\n",
        "    stemmer = SnowballStemmer(\"english\")\n",
        "    stop_words = stopwords.words(\"english\")\n",
        "\n",
        "    word_counter = Counter()\n",
        "    for file_path in file_list:\n",
        "        with open(file_path, 'r', encoding='utf-8', errors='ignore') as file:\n",
        "            file_data = file.read()\n",
        "            file_data = clean_file_text(file_data)\n",
        "            file_words = tokenizer.tokenize(file_data)\n",
        "            file_words = [w for w in file_words if not w in stop_words] \n",
        "            file_words = [stemmer.stem(w) for w in file_words]\n",
        "            file_words = [w for w in file_words if not w.isdigit()]\n",
        "            file_words = [w for w in file_words if not len(w) <= 2]\n",
        "            word_counter.update(file_words)\n",
        "    return word_counter"
      ],
      "execution_count": 155,
      "outputs": []
    },
    {
      "cell_type": "code",
      "metadata": {
        "id": "_VBp_7RBjJW1"
      },
      "source": [
        "def get_topic_name(file_path):\n",
        "    return file_path.parent.name\n",
        "\n",
        "def get_target(topic_name):\n",
        "    topics = ['talk.politics.mideast', 'rec.autos', 'comp.sys.mac.hardware', 'alt.atheism', 'rec.sport.baseball', \n",
        "     'comp.os.ms-windows.misc', 'rec.sport.hockey', 'sci.crypt', 'sci.med', 'talk.politics.misc', \n",
        "     'rec.motorcycles', 'comp.windows.x', 'comp.graphics', 'comp.sys.ibm.pc.hardware', 'sci.electronics',\n",
        "     'talk.politics.guns', 'sci.space', 'soc.religion.christian', 'misc.forsale', 'talk.religion.misc']\n",
        "    return topics.index(topic_name)"
      ],
      "execution_count": 48,
      "outputs": []
    },
    {
      "cell_type": "code",
      "metadata": {
        "id": "OH81rhWjjJW4"
      },
      "source": [
        "def plot_confusion_matrix(cm):\n",
        "    # plot the confusion matrix\n",
        "    plt.figure(figsize=(10,10))\n",
        "    plt.matshow(cm, fignum=1)\n",
        "    \n",
        "    # add labels for all targets\n",
        "    num_targets = cm.shape[0]\n",
        "    plt.xticks(list(range(num_targets+1)))\n",
        "    plt.yticks(list(range(num_targets+1)))"
      ],
      "execution_count": 49,
      "outputs": []
    },
    {
      "cell_type": "markdown",
      "metadata": {
        "id": "0TuPzSUPjJW8"
      },
      "source": [
        "## Q1"
      ]
    },
    {
      "cell_type": "code",
      "metadata": {
        "id": "QwVZblX1jJW9"
      },
      "source": [
        "all_files = [pth for pth in Path(DATA_DIR).glob(\"**/*\") if pth.is_file() and not pth.name.startswith(\".\")]"
      ],
      "execution_count": 50,
      "outputs": []
    },
    {
      "cell_type": "code",
      "metadata": {
        "id": "Jn3bD8tCjJXA"
      },
      "source": [
        "def binary_baseline_data(file_list, num_words = 1000):\n",
        "    # Calculate word count in corpus\n",
        "    news_cnt = corpus_count_words(file_list)\n",
        "    \n",
        "    # Select the most common numWords\n",
        "    word_list = [word for (word, freq) in news_cnt.most_common(num_words)]\n",
        "    \n",
        "    # Create a binary encoding of dataset based on the selected features (X)\n",
        "    tokenizer = RegexpTokenizer(r'\\w+') \n",
        "    df_rows = []\n",
        "    for file_path in file_list:\n",
        "        with open(file_path, 'r', encoding='utf-8', errors='ignore') as file:\n",
        "            file_data = file.read()\n",
        "            file_data = clean_file_text(file_data)\n",
        "            file_words = tokenizer.tokenize(file_data)\n",
        "            df_rows.append([1 if word in file_words else 0 for word in word_list])      \n",
        "    X = pd.DataFrame(df_rows, index=[str(f) for f in file_list], columns = word_list)\n",
        "    \n",
        "    # Create a dataframe of targets (y)\n",
        "    y = [get_target(get_topic_name(file_path)) for file_path in file_list]\n",
        "    \n",
        "    return X, y"
      ],
      "execution_count": 51,
      "outputs": []
    },
    {
      "cell_type": "code",
      "metadata": {
        "id": "hV2I4MIDjJXF",
        "outputId": "54c15c9c-af9a-4e22-85a9-36386c47d5fe",
        "colab": {
          "base_uri": "https://localhost:8080/",
          "height": 52
        }
      },
      "source": [
        "# get the baseline data\n",
        "X, y = binary_baseline_data(all_files)\n",
        "\n",
        "# split to train and test set\n",
        "X_train, X_test, y_train, y_test = train_test_split(X, y, test_size=0.3, random_state=42)\n",
        "\n",
        "# train a logistic regression classifier\n",
        "clf = LogisticRegression(C=1.0).fit(X_train, y_train)\n",
        "\n",
        "# predict on train and test set\n",
        "y_train_predict = clf.predict(X_train)\n",
        "y_test_predict = clf.predict(X_test)\n",
        "\n",
        "# calculate train and test accuracy\n",
        "train_accuracy = accuracy_score(y_train, y_train_predict)\n",
        "test_accuracy = accuracy_score(y_test, y_test_predict)\n",
        "\n",
        "# report results\n",
        "print(\"Train accuracy: {}\".format(train_accuracy))\n",
        "print(\"Test accuracy: {}\".format(test_accuracy))"
      ],
      "execution_count": 52,
      "outputs": [
        {
          "output_type": "stream",
          "text": [
            "Train accuracy: 0.9472744159462742\n",
            "Test accuracy: 0.6776666666666666\n"
          ],
          "name": "stdout"
        }
      ]
    },
    {
      "cell_type": "markdown",
      "metadata": {
        "id": "UL4bvFizXEDw"
      },
      "source": [
        ""
      ]
    },
    {
      "cell_type": "code",
      "metadata": {
        "id": "l_ka2WqV-B6J",
        "outputId": "4017108a-d6c8-4659-e540-0f857608d539",
        "colab": {
          "base_uri": "https://localhost:8080/",
          "height": 34
        }
      },
      "source": [
        "X_train.size\n",
        "X_test.size"
      ],
      "execution_count": 53,
      "outputs": [
        {
          "output_type": "execute_result",
          "data": {
            "text/plain": [
              "6000000"
            ]
          },
          "metadata": {
            "tags": []
          },
          "execution_count": 53
        }
      ]
    },
    {
      "cell_type": "markdown",
      "metadata": {
        "id": "dZSQINnXjJXJ"
      },
      "source": [
        "### Q1 (a)\n",
        "\n",
        "The size of feature set is 1000. They are the top 1000 most frequent words appearred among all files. the amount of data for training is 13997000, and for testing is 6000000. The hyperparameters for the baseline are all default, such as default solver, number of iteration to convergence, size of penalty etc..\n"
      ]
    },
    {
      "cell_type": "markdown",
      "metadata": {
        "id": "3XFlNTqFjJXL"
      },
      "source": [
        "### Q1 (b)\n",
        "\n",
        "Modify the following function:"
      ]
    },
    {
      "cell_type": "code",
      "metadata": {
        "id": "qZtl6fKDcBkV"
      },
      "source": [
        "nltk.download(\"wordnet\")\n",
        "nltk.download(\"stopwords\")"
      ],
      "execution_count": null,
      "outputs": []
    },
    {
      "cell_type": "code",
      "metadata": {
        "id": "6CUW3MolcKym"
      },
      "source": [
        "from nltk.stem.snowball import SnowballStemmer\n",
        "from nltk.corpus import stopwords"
      ],
      "execution_count": 55,
      "outputs": []
    },
    {
      "cell_type": "code",
      "metadata": {
        "id": "6GM_i9r9jJXM"
      },
      "source": [
        "def binary_improved_data(file_list, num_words = 1050):\n",
        "    # Put your code here\n",
        "    # Make sure you update the variable features and targets below\n",
        "    news_cnt = corpus_count_words_new(file_list)\n",
        "\n",
        "    stemmer = SnowballStemmer(\"english\")\n",
        "    stop_words = stopwords.words(\"english\")\n",
        "\n",
        "    # news_cnt = [w for w in news_cnt if not w in stop_words] \n",
        "    # news_cnt = [stemmer.stem(w) for w in news_cnt]\n",
        "\n",
        "    # Select the most common numWords\n",
        "    word_list = [word for (word, freq) in news_cnt.most_common(num_words)]\n",
        "    word_list = word_list[50:]\n",
        "    # Create a binary encoding of dataset based on the selected features (X)\n",
        "    tokenizer = RegexpTokenizer(r'\\w+') \n",
        "    df_rows = []\n",
        "    for file_path in file_list:\n",
        "        with open(file_path, 'r', encoding='utf-8', errors='ignore') as file:\n",
        "            file_data = file.read()\n",
        "            file_data = clean_file_text(file_data)\n",
        "            file_words = tokenizer.tokenize(file_data)\n",
        "            file_words = [w for w in file_words if not w in stop_words] \n",
        "            file_words = [stemmer.stem(w) for w in file_words]\n",
        "            df_rows.append([1 if word in file_words else 0 for word in word_list])  \n",
        "    X = pd.DataFrame(df_rows, index=[str(f) for f in file_list], columns = word_list)\n",
        "    # Create a dataframe of targets (y)\n",
        "    y = [get_target(get_topic_name(file_path)) for file_path in file_list]\n",
        "\n",
        "    #Please remember to put index for your dataframe as the file name\n",
        "    #For example: pd.DataFrame(data, index=[str(f) for f in file_list],columns=[])\n",
        "    \n",
        "    # validate return types\n",
        "    assert isinstance(X, pd.DataFrame) and isinstance(y, list), \"return types\"\n",
        "    \n",
        "    return X, y"
      ],
      "execution_count": 156,
      "outputs": []
    },
    {
      "cell_type": "markdown",
      "metadata": {
        "id": "LXRUw2LDjJXQ"
      },
      "source": [
        "### Q1 (c)\n",
        "\n",
        "Modify the following partial code to calculate the train and test accuracy and answer the question in the markdown cell below"
      ]
    },
    {
      "cell_type": "code",
      "metadata": {
        "id": "G2wliJNvjJXR",
        "outputId": "7955bf09-c881-419b-b16d-ca2dacfba8f0",
        "colab": {
          "base_uri": "https://localhost:8080/",
          "height": 52
        }
      },
      "source": [
        "# get the baseline data\n",
        "X, y = binary_improved_data(all_files)\n",
        "\n",
        "# Write your code here:\n",
        "# You need to split the data and train a logistic regression classifier.\n",
        "# Then, you need to calculate the variables train_accuracy and test_accuracy for the new classifier\n",
        "\n",
        "# split to train and test set\n",
        "X_train, X_test, y_train, y_test = train_test_split(X, y, test_size=0.3, random_state=42)\n",
        "\n",
        "# train a logistic regression classifier\n",
        "clf = LogisticRegression(C=1.0).fit(X_train, y_train)\n",
        "\n",
        "# predict on train and test set\n",
        "y_train_predict = clf.predict(X_train)\n",
        "y_test_predict = clf.predict(X_test)\n",
        "\n",
        "# calculate train and test accuracy\n",
        "train_accuracy = accuracy_score(y_train, y_train_predict)\n",
        "test_accuracy = accuracy_score(y_test, y_test_predict)\n",
        "\n",
        "# report results\n",
        "print(\"Train accuracy: {}\".format(train_accuracy))\n",
        "print(\"Test accuracy: {}\".format(test_accuracy))\n"
      ],
      "execution_count": 157,
      "outputs": [
        {
          "output_type": "stream",
          "text": [
            "Train accuracy: 0.9557047938844038\n",
            "Test accuracy: 0.7316666666666667\n"
          ],
          "name": "stdout"
        }
      ]
    },
    {
      "cell_type": "markdown",
      "metadata": {
        "id": "rEMCPkicoT08"
      },
      "source": [
        "After using snowballstemmer and eliminate the stopwords, the accuracy for testing is improved by around 5%, and the training accuracy is moderately the same. "
      ]
    },
    {
      "cell_type": "markdown",
      "metadata": {
        "id": "K2EbQVhMjJXY"
      },
      "source": [
        "### Q1 (d)\n",
        "\n",
        "Modify the partial code below"
      ]
    },
    {
      "cell_type": "code",
      "metadata": {
        "id": "D5u-hVDfjJXZ"
      },
      "source": [
        "def random_mean_ci(X, y, num_tests):\n",
        "    # train_results is a list of train accuracy results for the differrent random splits of the dataset\n",
        "    train_results = []\n",
        "    \n",
        "    # test_results is a list of test accuracy results for the differrent random splits of the dataset\n",
        "    test_results = []\n",
        "    \n",
        "    # Write your code here\n",
        "    randstate_list = [random.randint(1,1000) for i in range(num_tests)]\n",
        "    for randstate in randstate_list:\n",
        "\n",
        "        # split to train and test set\n",
        "        X_train, X_test, y_train, y_test = train_test_split(X, y, test_size=0.3, random_state=randstate)\n",
        "        # train a logistic regression classifier\n",
        "        clf = LogisticRegression(C=1.0).fit(X_train, y_train)\n",
        "\n",
        "        # predict on train and test set\n",
        "        y_train_predict = clf.predict(X_train)\n",
        "        y_test_predict = clf.predict(X_test)\n",
        "\n",
        "        # calculate train and test accuracy\n",
        "        train_accuracy = accuracy_score(y_train, y_train_predict)\n",
        "        test_accuracy = accuracy_score(y_test, y_test_predict)\n",
        "\n",
        "        train_results.append(train_accuracy)\n",
        "        test_results.append(test_accuracy)\n",
        "\n",
        "    # calculate the train mean and the 95% confidence interval for the list of results\n",
        "    train_mean = np.mean(train_results)\n",
        "    train_ci_low, train_ci_high = stats.t.interval(0.95, len(train_results)-1, loc=train_mean, scale=stats.sem(train_results))\n",
        "    \n",
        "    # calculate the test mean and the 95% confidence interval for the list of results\n",
        "    test_mean = np.mean(test_results)\n",
        "    test_ci_low, test_ci_high = stats.t.interval(0.95, len(test_results)-1, loc=test_mean, scale=stats.sem(test_results))\n",
        "    \n",
        "    # validate return types\n",
        "    assert isinstance(train_mean, float) and isinstance(train_ci_low, float) and isinstance(train_ci_high, float), \"return types\"\n",
        "    assert isinstance(test_mean, float) and isinstance(test_ci_low, float) and isinstance(test_ci_high, float), \"return types\"\n",
        "    \n",
        "    return train_mean, train_ci_low, train_ci_high, test_mean, test_ci_low, test_ci_high"
      ],
      "execution_count": 158,
      "outputs": []
    },
    {
      "cell_type": "code",
      "metadata": {
        "id": "H4fPRZl525An"
      },
      "source": [
        "def random_mean_ci_new(X, y, num_tests, C):\n",
        "    # train_results is a list of train accuracy results for the differrent random splits of the dataset\n",
        "    train_results = []\n",
        "    \n",
        "    # test_results is a list of test accuracy results for the differrent random splits of the dataset\n",
        "    test_results = []\n",
        "    \n",
        "    # Write your code here\n",
        "    randstate_list = [random.randint(1,1000) for i in range(num_tests)]\n",
        "    for randstate in randstate_list:\n",
        "\n",
        "        # split to train and test set\n",
        "        X_train, X_test, y_train, y_test = train_test_split(X, y, test_size=0.3, random_state=randstate)\n",
        "        # train a logistic regression classifier\n",
        "        clf = LogisticRegression(C=C).fit(X_train, y_train)\n",
        "\n",
        "        # predict on train and test set\n",
        "        y_train_predict = clf.predict(X_train)\n",
        "        y_test_predict = clf.predict(X_test)\n",
        "\n",
        "        # calculate train and test accuracy\n",
        "        train_accuracy = accuracy_score(y_train, y_train_predict)\n",
        "        test_accuracy = accuracy_score(y_test, y_test_predict)\n",
        "\n",
        "        train_results.append(train_accuracy)\n",
        "        test_results.append(test_accuracy)\n",
        "\n",
        "    # calculate the train mean and the 95% confidence interval for the list of results\n",
        "    train_mean = np.mean(train_results)\n",
        "    train_ci_low, train_ci_high = stats.t.interval(0.95, len(train_results)-1, loc=train_mean, scale=stats.sem(train_results))\n",
        "    \n",
        "    # calculate the test mean and the 95% confidence interval for the list of results\n",
        "    test_mean = np.mean(test_results)\n",
        "    test_ci_low, test_ci_high = stats.t.interval(0.95, len(test_results)-1, loc=test_mean, scale=stats.sem(test_results))\n",
        "    \n",
        "    # validate return types\n",
        "    assert isinstance(train_mean, float) and isinstance(train_ci_low, float) and isinstance(train_ci_high, float), \"return types\"\n",
        "    assert isinstance(test_mean, float) and isinstance(test_ci_low, float) and isinstance(test_ci_high, float), \"return types\"\n",
        "    \n",
        "    return train_mean, train_ci_low, train_ci_high, test_mean, test_ci_low, test_ci_high"
      ],
      "execution_count": 167,
      "outputs": []
    },
    {
      "cell_type": "markdown",
      "metadata": {
        "id": "FrNbYeqqjJXc"
      },
      "source": [
        "### Q1 (e)\n",
        "\n",
        "Use the following code to calculate the mean accuracy and 95% confidence interval over 10 random splits"
      ]
    },
    {
      "cell_type": "code",
      "metadata": {
        "id": "oerfu1GljJXd",
        "outputId": "7582980c-942d-4caf-aaa9-589497554589",
        "colab": {
          "base_uri": "https://localhost:8080/",
          "height": 87
        }
      },
      "source": [
        "train_mean10, train_low10, train_high10, test_mean10, test_low10, test_high10 = random_mean_ci(X, y, num_tests = 10)\n",
        "print(\"Train mean accuracy over 10 random splits: {}\".format(train_mean10))\n",
        "print(\"Train confidence interval over 10 random splits: [{}, {}]\".format(train_low10, train_high10))\n",
        "print(\"Test mean accuracy over 10 random splits: {}\".format(test_mean10))\n",
        "print(\"Test confidence interval over 10 random splits: [{}, {}]\".format(test_low10, test_high10))"
      ],
      "execution_count": 159,
      "outputs": [
        {
          "output_type": "stream",
          "text": [
            "Train mean accuracy over 10 random splits: 0.9574980352932773\n",
            "Train confidence interval over 10 random splits: [0.956524612528111, 0.9584714580584435]\n",
            "Test mean accuracy over 10 random splits: 0.7380833333333333\n",
            "Test confidence interval over 10 random splits: [0.7346946389064031, 0.7414720277602636]\n"
          ],
          "name": "stdout"
        }
      ]
    },
    {
      "cell_type": "markdown",
      "metadata": {
        "id": "qWqqzPkGjJXh"
      },
      "source": [
        "The difference b/t single trial score and average of 10 trial is really small. However, this is more informative, cuz now we know the variance is small, and we are 95% certain that the true mean would be within the range."
      ]
    },
    {
      "cell_type": "markdown",
      "metadata": {
        "id": "z86lxUvmjJXi"
      },
      "source": [
        "### Q1 (f)\n",
        "\n",
        "Modify the partial code below"
      ]
    },
    {
      "cell_type": "code",
      "metadata": {
        "id": "WLMSd9wgjJXm"
      },
      "source": [
        "def random_cm(X, y, num_tests):\n",
        "    # cm_list is a list of confusion matrices for the different random splits of the dataset\n",
        "    cm_list = []\n",
        "    \n",
        "    # Write your code here\n",
        "    randstate_list = [random.randint(1,1000) for i in range(num_tests)]\n",
        "    for randstate in randstate_list:\n",
        "\n",
        "        # split to train and test set\n",
        "        X_train, X_test, y_train, y_test = train_test_split(X, y, test_size=0.3, random_state=randstate)\n",
        "        # train a logistic regression classifier\n",
        "        clf = LogisticRegression(C=1.0).fit(X_train, y_train)\n",
        "\n",
        "        # predict on train and test set\n",
        "        y_train_predict = clf.predict(X_train)\n",
        "        y_test_predict = clf.predict(X_test)\n",
        "\n",
        "        cm = confusion_matrix(y_test, y_test_predict)\n",
        "        cm_list.append(cm)\n",
        "\n",
        "\n",
        "    # sum the confusion matrices and return the combined confusion matrix\n",
        "    combined_cm = np.array(cm_list).sum(axis=0)\n",
        "\n",
        "    # validate return type\n",
        "    assert isinstance(combined_cm, np.ndarray), \"return type\"\n",
        "    \n",
        "    return combined_cm"
      ],
      "execution_count": 160,
      "outputs": []
    },
    {
      "cell_type": "code",
      "metadata": {
        "id": "IlweWYOtI1yE",
        "outputId": "d5e0ba3d-f2a6-450e-fef8-8e99ed9dab4b",
        "colab": {
          "base_uri": "https://localhost:8080/",
          "height": 612
        }
      },
      "source": [
        "cm = confusion_matrix(y_test, y_test_predict)\n",
        "plot_confusion_matrix(cm)"
      ],
      "execution_count": 161,
      "outputs": [
        {
          "output_type": "display_data",
          "data": {
            "image/png": "[encoded data removed]",
            "text/plain": [
              "<Figure size 720x720 with 1 Axes>"
            ]
          },
          "metadata": {
            "tags": [],
            "needs_background": "light"
          }
        }
      ]
    },
    {
      "cell_type": "markdown",
      "metadata": {
        "id": "e19w779ejJXs"
      },
      "source": [
        "### Q1 (g)\n",
        "\n",
        "Use the following code to produce a confusion matrix for 10 random splits"
      ]
    },
    {
      "cell_type": "code",
      "metadata": {
        "id": "xXGSnr-xjJXt",
        "outputId": "46336142-644a-4611-8bbd-a68528621d6b",
        "colab": {
          "base_uri": "https://localhost:8080/",
          "height": 612
        }
      },
      "source": [
        "cm10 = random_cm(X, y, num_tests = 10)\n",
        "plot_confusion_matrix(cm10)"
      ],
      "execution_count": 162,
      "outputs": [
        {
          "output_type": "display_data",
          "data": {
            "image/png": "[encoded data removed]",
            "text/plain": [
              "<Figure size 720x720 with 1 Axes>"
            ]
          },
          "metadata": {
            "tags": [],
            "needs_background": "light"
          }
        }
      ]
    },
    {
      "cell_type": "markdown",
      "metadata": {
        "id": "cXgq9z3KjJXw"
      },
      "source": [
        "'alt.atheism' and 'talk.religion.misc' are really easy to confused with. one is about people not believing in any religion, one is talking about religions. They are quite similiar in terms of their vocabulary."
      ]
    },
    {
      "cell_type": "markdown",
      "metadata": {
        "id": "XTFCjNAjjJXx"
      },
      "source": [
        "## Q2"
      ]
    },
    {
      "cell_type": "markdown",
      "metadata": {
        "id": "dhXfPuIpjJXy"
      },
      "source": [
        "### Q2 (a)\n",
        "\n",
        "Modify the partial code below"
      ]
    },
    {
      "cell_type": "code",
      "metadata": {
        "id": "Gf5uco3VjJXz"
      },
      "source": [
        "def feature_num(X, y):\n",
        "    # result_list is a list of tuples (num_features, train_accuracy, test_accuracy)\n",
        "    # where numFeatures is the number of words used as features\n",
        "    result_list = []\n",
        "    \n",
        "    X_train, X_test, y_train, y_test = train_test_split(X, y, test_size=0.3, random_state=42)\n",
        "    \n",
        "    for p in [0.1, 0.2, 0.4, 0.6, 0.8, 1.0]:\n",
        "        subset_size = int(p*X.shape[1])\n",
        "        X_train_subset = X_train.iloc[:, 0:subset_size]\n",
        "        X_test_subset = X_test.iloc[:, 0:subset_size]\n",
        "        # Write your code here to calculate train_accuracy and test_accuracy for the current subset of features\n",
        "        # ......\n",
        "        clf = LogisticRegression(C=1.0).fit(X_train_subset, y_train)\n",
        "\n",
        "        # predict on train and test set\n",
        "        y_train_predict = clf.predict(X_train_subset)\n",
        "        y_test_predict = clf.predict(X_test_subset)\n",
        "\n",
        "        train_accuracy = accuracy_score(y_train, y_train_predict)\n",
        "        test_accuracy = accuracy_score(y_test, y_test_predict)\n",
        "        \n",
        "        # add to result_list\n",
        "        result_list.append((p, train_accuracy, test_accuracy))\n",
        "        \n",
        "    # Make a dataframe of the results\n",
        "    result_df = pd.DataFrame(result_list, columns=[\"num_features\", \"train_accuracy\", \"test_accuracy\"])\n",
        "    \n",
        "    # validate return type\n",
        "    assert isinstance(result_df, pd.DataFrame), \"return type\"\n",
        "    \n",
        "    return result_df"
      ],
      "execution_count": 64,
      "outputs": []
    },
    {
      "cell_type": "markdown",
      "metadata": {
        "id": "X7hNvwoljJX6"
      },
      "source": [
        "### Q2 (b)\n",
        "\n",
        "Use the following code to plot the train and test accuracy for the different feature sets sizes"
      ]
    },
    {
      "cell_type": "code",
      "metadata": {
        "id": "Ehilq_hyjJX7",
        "outputId": "5ceddf5f-2637-4456-8acf-59e3b275f4e0",
        "colab": {
          "base_uri": "https://localhost:8080/",
          "height": 297
        }
      },
      "source": [
        "feature_num_df = feature_num(X, y)\n",
        "feature_num_df.plot(x=\"num_features\", y=[\"train_accuracy\", \"test_accuracy\"])"
      ],
      "execution_count": 65,
      "outputs": [
        {
          "output_type": "execute_result",
          "data": {
            "text/plain": [
              "<matplotlib.axes._subplots.AxesSubplot at 0x7fbc1ca335f8>"
            ]
          },
          "metadata": {
            "tags": []
          },
          "execution_count": 65
        },
        {
          "output_type": "display_data",
          "data": {
            "image/png": "[encoded data removed]",
            "text/plain": [
              "<Figure size 432x288 with 1 Axes>"
            ]
          },
          "metadata": {
            "tags": [],
            "needs_background": "light"
          }
        }
      ]
    },
    {
      "cell_type": "markdown",
      "metadata": {
        "id": "XFk_ess_jJYC"
      },
      "source": [
        "From the plot, we can see that with more features being considered, both training and testing accuracy improves, but the overfitting issue is also getting worse. Thus, My idea number of feature would probably be 400 or 600"
      ]
    },
    {
      "cell_type": "markdown",
      "metadata": {
        "id": "a0ZftHo6jJYD"
      },
      "source": [
        "## Q3"
      ]
    },
    {
      "cell_type": "markdown",
      "metadata": {
        "id": "X0e1QSDsjJYE"
      },
      "source": [
        "### Q3 (a)\n",
        "\n",
        "Modify the partial code below"
      ]
    },
    {
      "cell_type": "code",
      "metadata": {
        "id": "F84NTWoHjJYI"
      },
      "source": [
        "def hyperparameter(X, y):\n",
        "    # result_list is a list of tuples (num_features, train_accuracy, test_accuracy)\n",
        "    # where numFeatures is the number of words used as features\n",
        "    result_list = []\n",
        "    \n",
        "    X_train, X_test, y_train, y_test = train_test_split(X, y, test_size=0.3, random_state=42)\n",
        "    \n",
        "    for param in [0.001, 0.01, 0.1, 1, 10, 100, 1000]:\n",
        "        # Write your code here to calculate train_accuracy and test_accuracy for the current parameter value\n",
        "        # ......\n",
        "        clf = LogisticRegression(C=param).fit(X_train, y_train)\n",
        "\n",
        "        # predict on train and test set\n",
        "        y_train_predict = clf.predict(X_train)\n",
        "        y_test_predict = clf.predict(X_test)\n",
        "\n",
        "        train_accuracy = accuracy_score(y_train, y_train_predict)\n",
        "        test_accuracy = accuracy_score(y_test, y_test_predict)\n",
        "    \n",
        "        # add to result_list\n",
        "        result_list.append((param, train_accuracy, test_accuracy))\n",
        "        \n",
        "    # Make a dataframe of the results\n",
        "    result_df = pd.DataFrame(result_list, columns=[\"param\", \"train_accuracy\", \"test_accuracy\"])\n",
        "    \n",
        "    # validate return type\n",
        "    assert isinstance(result_df, pd.DataFrame), \"return type\"\n",
        "    \n",
        "    return result_df"
      ],
      "execution_count": 66,
      "outputs": []
    },
    {
      "cell_type": "markdown",
      "metadata": {
        "id": "Id6-n2ZBjJYM"
      },
      "source": [
        "### Q3 (b)\n",
        "\n",
        "Use the following code to plot the train and test accuracy for the different the parameters"
      ]
    },
    {
      "cell_type": "code",
      "metadata": {
        "id": "phBkJ5mvjJYN",
        "outputId": "693fcff1-372e-4821-c310-a319139b26dc",
        "colab": {
          "base_uri": "https://localhost:8080/",
          "height": 301
        }
      },
      "source": [
        "param_df = hyperparameter(X, y)\n",
        "param_df.plot(x=\"param\", y=[\"train_accuracy\", \"test_accuracy\"], logx=True)"
      ],
      "execution_count": 67,
      "outputs": [
        {
          "output_type": "execute_result",
          "data": {
            "text/plain": [
              "<matplotlib.axes._subplots.AxesSubplot at 0x7fbc1c757b00>"
            ]
          },
          "metadata": {
            "tags": []
          },
          "execution_count": 67
        },
        {
          "output_type": "display_data",
          "data": {
            "image/png": "[encoded data removed]",
            "text/plain": [
              "<Figure size 432x288 with 1 Axes>"
            ]
          },
          "metadata": {
            "tags": [],
            "needs_background": "light"
          }
        }
      ]
    },
    {
      "cell_type": "markdown",
      "metadata": {
        "id": "ngW4KMVLjJYP"
      },
      "source": [
        "From the plot, we learned that with C increasing, the training accuracy is also always increase, but the testing accuracy reached its peak when C =0.1. The overfitting issue is also getting worse. probably C =0.1 is good for the model."
      ]
    },
    {
      "cell_type": "markdown",
      "metadata": {
        "id": "NPsJTYu_jJYR"
      },
      "source": [
        "## Q4"
      ]
    },
    {
      "cell_type": "markdown",
      "metadata": {
        "id": "aK7nTn82jJYS"
      },
      "source": [
        "### Q4 (a)\n",
        "\n",
        "Modify the partial code below"
      ]
    },
    {
      "cell_type": "code",
      "metadata": {
        "id": "Ygrv9vUZyuPr"
      },
      "source": [
        "from sklearn.feature_extraction.text import CountVectorizer\n",
        "from sklearn.feature_extraction.text import TfidfVectorizer"
      ],
      "execution_count": 90,
      "outputs": []
    },
    {
      "cell_type": "code",
      "metadata": {
        "id": "8LB6Z1sXjJYT"
      },
      "source": [
        "def tf_improved_data(file_list, num_words = 1000):\n",
        "    # Put your code here\n",
        "    # Make sure you update the variable features and targets below\n",
        "    news_cnt = corpus_count_words_new(file_list)\n",
        "\n",
        "    \n",
        "    stemmer = SnowballStemmer(\"english\")\n",
        "    stop_words = stopwords.words(\"english\")\n",
        "\n",
        "    # Select the most common numWords\n",
        "    word_list = [word for (word, freq) in news_cnt.most_common(num_words)]\n",
        "    word_list = [w for w in word_list if not w in stop_words] \n",
        "    word_list = [stemmer.stem(w) for w in word_list]\n",
        "    \n",
        "    class StemmedCountVectorizer(CountVectorizer):\n",
        "        def build_analyzer(self):\n",
        "            analyzer = super(StemmedCountVectorizer, self).build_analyzer()\n",
        "            return lambda doc: ([stemmer.stem(w) for w in analyzer(doc)])\n",
        "\n",
        "    tokenizer = RegexpTokenizer(r'\\w+') \n",
        "    vectorizer = CountVectorizer(stop_words = stop_words, tokenizer = tokenizer.tokenize )\n",
        "\n",
        "    # Create a TF encoding of dataset based on the selected features (X)\n",
        "    df_rows = []\n",
        "    for file_path in file_list:\n",
        "        with open(file_path, 'r', encoding='utf-8', errors='ignore') as file:\n",
        "            file_data = file.read()\n",
        "            file_data = clean_file_text(file_data)\n",
        "            # print(file_data)\n",
        "            TF = vectorizer.fit_transform([file_data]).toarray()\n",
        "            token_list = vectorizer.get_feature_names()\n",
        "            df_rows.append([TF[0][token_list.index(word)] if word in token_list else 0 for word in word_list])     \n",
        "    X = pd.DataFrame(df_rows, index=[str(f) for f in file_list], columns = word_list)\n",
        "    \n",
        "    # Create a dataframe of targets (y)\n",
        "    y = [get_target(get_topic_name(file_path)) for file_path in file_list]\n",
        "\n",
        "    #Please remember to put index for your dataframe as the file name\n",
        "    #For example: pd.DataFrame(data, index=[str(f) for f in file_list],columns=[])\n",
        "    \n",
        "    # validate return types\n",
        "    assert isinstance(X, pd.DataFrame) and isinstance(y, list), \"return types\"\n",
        "    \n",
        "    return X, y\n"
      ],
      "execution_count": 180,
      "outputs": []
    },
    {
      "cell_type": "code",
      "metadata": {
        "id": "TtEOCw5l2UJt"
      },
      "source": [
        "X_tf, y_tf = tf_improved_data(all_files)"
      ],
      "execution_count": 181,
      "outputs": []
    },
    {
      "cell_type": "code",
      "metadata": {
        "id": "6jIs-SFgGbyX"
      },
      "source": [
        "y_tf"
      ],
      "execution_count": null,
      "outputs": []
    },
    {
      "cell_type": "markdown",
      "metadata": {
        "id": "C1Ws8ZgrjJYV"
      },
      "source": [
        "### Q4 (b)\n",
        "\n",
        "Use the following code to calculate the mean accuracy and 95% confidence interval over multiple random splits"
      ]
    },
    {
      "cell_type": "markdown",
      "metadata": {
        "id": "-QEhiAsCJofJ"
      },
      "source": [
        "###TF Encoding\n"
      ]
    },
    {
      "cell_type": "code",
      "metadata": {
        "id": "A9c3b_RwjJYW",
        "outputId": "da34f381-ad56-483a-fbc5-58ec3c97d0a9",
        "colab": {
          "base_uri": "https://localhost:8080/",
          "height": 87
        }
      },
      "source": [
        "# X_tf, y_tf = tf_improved_data(all_files)\n",
        "train_mean10, train_low10, train_high10, test_mean10, test_low10, test_high10 = random_mean_ci(X_tf, y_tf, num_tests = 10)\n",
        "print(\"Train mean accuracy over 10 random splits: {}\".format(train_mean10))\n",
        "print(\"Train confidence interval over 10 random splits: [{}, {}]\".format(train_low10, train_high10))\n",
        "print(\"Test mean accuracy over 10 random splits: {}\".format(test_mean10))\n",
        "print(\"Test confidence interval over 10 random splits: [{}, {}]\".format(test_low10, test_high10))"
      ],
      "execution_count": 182,
      "outputs": [
        {
          "output_type": "stream",
          "text": [
            "Train mean accuracy over 10 random splits: 0.8824819604200901\n",
            "Train confidence interval over 10 random splits: [0.8796786833327427, 0.8852852375074375]\n",
            "Test mean accuracy over 10 random splits: 0.6677166666666667\n",
            "Test confidence interval over 10 random splits: [0.6643797304337287, 0.6710536028996048]\n"
          ],
          "name": "stdout"
        }
      ]
    },
    {
      "cell_type": "code",
      "metadata": {
        "id": "fcIPK1kU2vo2",
        "outputId": "902a176b-b1b7-445e-9d4d-568835197e1e",
        "colab": {
          "base_uri": "https://localhost:8080/",
          "height": 87
        }
      },
      "source": [
        "train_mean10, train_low10, train_high10, test_mean10, test_low10, test_high10 = random_mean_ci_new(X_tf, y_tf, num_tests = 10, C=0.1)\n",
        "print(\"Train mean accuracy over 10 random splits: {}\".format(train_mean10))\n",
        "print(\"Train confidence interval over 10 random splits: [{}, {}]\".format(train_low10, train_high10))\n",
        "print(\"Test mean accuracy over 10 random splits: {}\".format(test_mean10))\n",
        "print(\"Test confidence interval over 10 random splits: [{}, {}]\".format(test_low10, test_high10))"
      ],
      "execution_count": 183,
      "outputs": [
        {
          "output_type": "stream",
          "text": [
            "Train mean accuracy over 10 random splits: 0.8293562906337073\n",
            "Train confidence interval over 10 random splits: [0.8282828224994837, 0.8304297587679309]\n",
            "Test mean accuracy over 10 random splits: 0.6885166666666668\n",
            "Test confidence interval over 10 random splits: [0.6851330097368177, 0.6919003235965159]\n"
          ],
          "name": "stdout"
        }
      ]
    },
    {
      "cell_type": "markdown",
      "metadata": {
        "id": "c2hkC1lGJh-f"
      },
      "source": [
        "### Binary Encoding"
      ]
    },
    {
      "cell_type": "code",
      "metadata": {
        "id": "1KCuOXkTJZKJ",
        "outputId": "05acbe78-debb-4857-fed1-da29e9c5bf0b",
        "colab": {
          "base_uri": "https://localhost:8080/",
          "height": 87
        }
      },
      "source": [
        "train_mean10, train_low10, train_high10, test_mean10, test_low10, test_high10 = random_mean_ci(X, y, num_tests = 10)\n",
        "print(\"Train mean accuracy over 10 random splits: {}\".format(train_mean10))\n",
        "print(\"Train confidence interval over 10 random splits: [{}, {}]\".format(train_low10, train_high10))\n",
        "print(\"Test mean accuracy over 10 random splits: {}\".format(test_mean10))\n",
        "print(\"Test confidence interval over 10 random splits: [{}, {}]\".format(test_low10, test_high10))"
      ],
      "execution_count": 166,
      "outputs": [
        {
          "output_type": "stream",
          "text": [
            "Train mean accuracy over 10 random splits: 0.9573837250839465\n",
            "Train confidence interval over 10 random splits: [0.9559581400889363, 0.9588093100789568]\n",
            "Test mean accuracy over 10 random splits: 0.7366333333333333\n",
            "Test confidence interval over 10 random splits: [0.7319445124063364, 0.7413221542603301]\n"
          ],
          "name": "stdout"
        }
      ]
    },
    {
      "cell_type": "markdown",
      "metadata": {
        "id": "KKgIMSPRjJYc"
      },
      "source": [
        "By comparing two results, it shows that binary encoding is better than TF encoding in terms of testing accuracy and training accuracy, but the overfiting problem for binary encoding is way worse than tf encoding. \n",
        "Reason why testing accuracy for tf encoding is worse than binary encoding could be the hyperparameter \"C\". \"C\" is the inverse of regulazation strength. With C=1, we didnt assign more value to less frequent terms, thus we didnt utilize the purpose of TF encoding. "
      ]
    },
    {
      "cell_type": "markdown",
      "metadata": {
        "id": "zAfgSoqjjJYd"
      },
      "source": [
        "## Q5"
      ]
    },
    {
      "cell_type": "markdown",
      "metadata": {
        "id": "2tV_h9kGjJYg"
      },
      "source": [
        "### Q5 (a)\n",
        "\n",
        "Modify the partial code below"
      ]
    },
    {
      "cell_type": "code",
      "metadata": {
        "id": "pV7Gad5SjJYh"
      },
      "source": [
        "def nb_random_mean_ci(X, y, num_tests):\n",
        "    # train_results is a list of train accuracy results for the differrent random splits of the dataset\n",
        "    train_results = []\n",
        "    \n",
        "    # test_results is a list of test accuracy results for the differrent random splits of the dataset\n",
        "    test_results = []\n",
        "    \n",
        "    # Write your code here\n",
        "    randstate_list = [random.randint(1,1000) for i in range(num_tests)]\n",
        "    for randstate in randstate_list:\n",
        "\n",
        "        # split to train and test set\n",
        "        X_train, X_test, y_train, y_test = train_test_split(X, y, test_size=0.3, random_state=randstate)\n",
        "        multnb = MultinomialNB(alpha=0.1)\n",
        "\n",
        "        multnb.fit(X_train,y_train)\n",
        "\n",
        "        y_train_predict = multnb.predict(X_train)\n",
        "        y_test_predict = multnb.predict(X_test)\n",
        "\n",
        "        train_accuracy = accuracy_score(y_train, y_train_predict)\n",
        "        test_accuracy = accuracy_score(y_test, y_test_predict)\n",
        "\n",
        "        train_results.append(train_accuracy)\n",
        "        test_results.append(test_accuracy)\n",
        "\n",
        "    # calculate the train mean and the 95% confidence interval for the list of results\n",
        "    train_mean = np.mean(train_results)\n",
        "    train_ci_low, train_ci_high = stats.t.interval(0.95, len(train_results)-1, loc=train_mean, scale=stats.sem(train_results))\n",
        "    \n",
        "    # calculate the test mean and the 95% confidence interval for the list of results\n",
        "    test_mean = np.mean(test_results)\n",
        "    test_ci_low, test_ci_high = stats.t.interval(0.95, len(test_results)-1, loc=test_mean, scale=stats.sem(test_results))\n",
        "    \n",
        "    # validate return types\n",
        "    assert isinstance(train_mean, float) and isinstance(train_ci_low, float) and isinstance(train_ci_high, float), \"return types\"\n",
        "    assert isinstance(test_mean, float) and isinstance(test_ci_low, float) and isinstance(test_ci_high, float), \"return types\"\n",
        "    \n",
        "    return train_mean, train_ci_low, train_ci_high, test_mean, test_ci_low, test_ci_high"
      ],
      "execution_count": 202,
      "outputs": []
    },
    {
      "cell_type": "markdown",
      "metadata": {
        "id": "E9-OzAIUjJYj"
      },
      "source": [
        "### Q5 (b)\n",
        "\n",
        "Use the following code to calculate the mean accuracy and 95% confidence interval over multiple random splits"
      ]
    },
    {
      "cell_type": "code",
      "metadata": {
        "id": "l9Me9H6HjJYk",
        "outputId": "10274bc5-27ba-4159-eac6-383b2dfc7517",
        "colab": {
          "base_uri": "https://localhost:8080/",
          "height": 87
        }
      },
      "source": [
        "train_mean10, train_low10, train_high10, test_mean10, test_low10, test_high10 = nb_random_mean_ci(X, y, num_tests = 20)\n",
        "print(\"Train mean accuracy over 10 random splits: {}\".format(train_mean10))\n",
        "print(\"Train confidence interval over 10 random splits: [{}, {}]\".format(train_low10, train_high10))\n",
        "print(\"Test mean accuracy over 10 random splits: {}\".format(test_mean10))\n",
        "print(\"Test confidence interval over 10 random splits: [{}, {}]\".format(test_low10, test_high10))"
      ],
      "execution_count": 188,
      "outputs": [
        {
          "output_type": "stream",
          "text": [
            "Train mean accuracy over 10 random splits: 0.7932485532614131\n",
            "Train confidence interval over 10 random splits: [0.7923853855559092, 0.794111720966917]\n",
            "Test mean accuracy over 10 random splits: 0.7442500000000001\n",
            "Test confidence interval over 10 random splits: [0.7420137004519733, 0.7464862995480268]\n"
          ],
          "name": "stdout"
        }
      ]
    },
    {
      "cell_type": "code",
      "metadata": {
        "id": "cOc6NsDZ6gg-",
        "outputId": "0b88033a-a7e0-47e3-887a-b62a7953255b",
        "colab": {
          "base_uri": "https://localhost:8080/",
          "height": 87
        }
      },
      "source": [
        "train_mean10, train_low10, train_high10, test_mean10, test_low10, test_high10 = random_mean_ci(X, y, num_tests = 20)\n",
        "print(\"Train mean accuracy over 10 random splits: {}\".format(train_mean10))\n",
        "print(\"Train confidence interval over 10 random splits: [{}, {}]\".format(train_low10, train_high10))\n",
        "print(\"Test mean accuracy over 10 random splits: {}\".format(test_mean10))\n",
        "print(\"Test confidence interval over 10 random splits: [{}, {}]\".format(test_low10, test_high10))"
      ],
      "execution_count": 189,
      "outputs": [
        {
          "output_type": "stream",
          "text": [
            "Train mean accuracy over 10 random splits: 0.9572336929342002\n",
            "Train confidence interval over 10 random splits: [0.9565963691827102, 0.9578710166856903]\n",
            "Test mean accuracy over 10 random splits: 0.7392666666666666\n",
            "Test confidence interval over 10 random splits: [0.7366943421504236, 0.7418389911829096]\n"
          ],
          "name": "stdout"
        }
      ]
    },
    {
      "cell_type": "markdown",
      "metadata": {
        "id": "P99mWvAbjJYp"
      },
      "source": [
        "From the results, it is obvious that multinomial NB has a better testing accuracy. The overfitting problem is really bad for logistic classification. since the testing accuracy difference b/t two classifers is not that significant, I would say NB is better "
      ]
    },
    {
      "cell_type": "markdown",
      "metadata": {
        "id": "4CPzZDj-jJYq"
      },
      "source": [
        "## Q6"
      ]
    },
    {
      "cell_type": "markdown",
      "metadata": {
        "id": "tWL6L_OUjJYu"
      },
      "source": [
        "### Q6 (a)\n",
        "\n",
        "Modify the partial code below"
      ]
    },
    {
      "cell_type": "code",
      "metadata": {
        "id": "2b7UGAt9jJYv"
      },
      "source": [
        "def binary_med_data(file_list, num_words = 1000):\n",
        "    # Put your code here\n",
        "    # Make sure you update the variable features and targets below\n",
        "    \n",
        "    news_cnt = corpus_count_words(file_list)\n",
        "\n",
        "    stemmer = SnowballStemmer(\"english\")\n",
        "    stop_words = stopwords.words(\"english\")\n",
        "\n",
        "    # news_cnt = [w for w in news_cnt if not w in stop_words] \n",
        "    # news_cnt = [stemmer.stem(w) for w in news_cnt]\n",
        "\n",
        "    # Select the most common numWords\n",
        "    word_list = [word for (word, freq) in news_cnt.most_common(num_words)]\n",
        "    word_list = [w for w in word_list if not w in stop_words] \n",
        "    word_list = [stemmer.stem(w) for w in word_list]\n",
        "    \n",
        "    # Create a binary encoding of dataset based on the selected features (X)\n",
        "    tokenizer = RegexpTokenizer(r'\\w+') \n",
        "    df_rows = []\n",
        "    for file_path in file_list:\n",
        "        with open(file_path, 'r', encoding='utf-8', errors='ignore') as file:\n",
        "            file_data = file.read()\n",
        "            file_data = clean_file_text(file_data)\n",
        "            file_words = tokenizer.tokenize(file_data)\n",
        "            file_words = [w for w in file_words if not w in stop_words] \n",
        "            file_words = [stemmer.stem(w) for w in file_words]\n",
        "            df_rows.append([1 if word in file_words else 0 for word in word_list])  \n",
        "    X = pd.DataFrame(df_rows, index=[str(f) for f in file_list], columns = word_list)\n",
        "    # Create a dataframe of targets (y)\n",
        "    y = [1 if get_topic_name(file_path) == 'sci.med' else 0 for file_path in file_list]\n",
        "\n",
        "    #Please remember to put index for your dataframe as the file name\n",
        "    #For example: pd.DataFrame(data, index=[str(f) for f in file_list],columns=[])\n",
        "    \n",
        "    # validate return types\n",
        "    assert isinstance(X, pd.DataFrame) and isinstance(y, list), \"return types\"\n",
        "    \n",
        "    return X, y"
      ],
      "execution_count": 79,
      "outputs": []
    },
    {
      "cell_type": "markdown",
      "metadata": {
        "id": "7Z3uKy8WjJYx"
      },
      "source": [
        "### Q6 (b)\n",
        "\n",
        "Use the following code to calculate the mean accuracy and 95% confidence interval over multiple random splits"
      ]
    },
    {
      "cell_type": "code",
      "metadata": {
        "id": "D3Dfy0uIjJYy",
        "outputId": "38023d9e-8a02-4531-8715-2d11e4e34416",
        "colab": {
          "base_uri": "https://localhost:8080/",
          "height": 87
        }
      },
      "source": [
        "X, y = binary_med_data(all_files)\n",
        "train_mean10, train_low10, train_high10, test_mean10, test_low10, test_high10 = random_mean_ci(X, y, num_tests = 10)\n",
        "print(\"Train mean accuracy over 10 random splits: {}\".format(train_mean10))\n",
        "print(\"Train confidence interval over 10 random splits: [{}, {}]\".format(train_low10, train_high10))\n",
        "print(\"Test mean accuracy over 10 random splits: {}\".format(test_mean10))\n",
        "print(\"Test confidence interval over 10 random splits: [{}, {}]\".format(test_low10, test_high10))"
      ],
      "execution_count": 80,
      "outputs": [
        {
          "output_type": "stream",
          "text": [
            "Train mean accuracy over 10 random splits: 0.9821175966278488\n",
            "Train confidence interval over 10 random splits: [0.9812610250080355, 0.9829741682476622]\n",
            "Test mean accuracy over 10 random splits: 0.9652833333333334\n",
            "Test confidence interval over 10 random splits: [0.9630734108802929, 0.9674932557863739]\n"
          ],
          "name": "stdout"
        }
      ]
    },
    {
      "cell_type": "markdown",
      "metadata": {
        "id": "EueLolt1jJY0"
      },
      "source": [
        "The average testing accuracy is 96.5% with 95% C.I[0.9630734108802929, 0.9674932557863739], which is really good. We are 95% certain that the true mean is within that range. the performance is way better than multiclass classfication."
      ]
    },
    {
      "cell_type": "markdown",
      "metadata": {
        "id": "kKTrbXOQ6BiE"
      },
      "source": [
        "#Q7"
      ]
    },
    {
      "cell_type": "markdown",
      "metadata": {
        "id": "xfKToZQOqnI-"
      },
      "source": [
        "##Q7(a)"
      ]
    },
    {
      "cell_type": "markdown",
      "metadata": {
        "id": "IE2xOCog6GjK"
      },
      "source": [
        "use the following code cell to implement your feature encoding"
      ]
    },
    {
      "cell_type": "code",
      "metadata": {
        "id": "eA5_qprNfEsw"
      },
      "source": [
        "def data_q7(file_list, num_words = 1050):\n",
        "\n",
        "    # Put your code here\n",
        "    # Make sure you update the variable features and targets below\n",
        "    news_cnt = corpus_count_words_new(file_list)\n",
        "\n",
        "    stemmer = SnowballStemmer(\"english\")\n",
        "    stop_words = stopwords.words(\"english\")\n",
        "\n",
        "    # news_cnt = [w for w in news_cnt if not w in stop_words] \n",
        "    # news_cnt = [stemmer.stem(w) for w in news_cnt]\n",
        "\n",
        "    # Select the most common numWords\n",
        "    word_list = [word for (word, freq) in news_cnt.most_common(num_words)]\n",
        "    word_list = word_list[50:]\n",
        "    # Create a binary encoding of dataset based on the selected features (X)\n",
        "    tokenizer = RegexpTokenizer(r'\\w+') \n",
        "    df_rows = []\n",
        "    for file_path in file_list:\n",
        "        with open(file_path, 'r', encoding='utf-8', errors='ignore') as file:\n",
        "            file_data = file.read()\n",
        "            file_data = clean_file_text(file_data)\n",
        "            file_words = tokenizer.tokenize(file_data)\n",
        "            file_words = [w for w in file_words if not w in stop_words] \n",
        "            file_words = [stemmer.stem(w) for w in file_words]\n",
        "            df_rows.append([1 if word in file_words else 0 for word in word_list])  \n",
        "    X = pd.DataFrame(df_rows, index=[str(f) for f in file_list], columns = word_list)\n",
        "    # Create a dataframe of targets (y)\n",
        "    y = [get_target(get_topic_name(file_path)) for file_path in file_list]\n",
        "\n",
        "    #Please remember to put index for your dataframe as the file name\n",
        "    #For example: pd.DataFrame(data, index=[str(f) for f in file_list],columns=[])\n",
        "    \n",
        "    # validate return types\n",
        "    assert isinstance(X, pd.DataFrame) and isinstance(y, list), \"return types\"\n",
        "    \n",
        "    return X, y"
      ],
      "execution_count": 193,
      "outputs": []
    },
    {
      "cell_type": "markdown",
      "metadata": {
        "id": "q95THgZEqqBv"
      },
      "source": [
        "##Q7(b)"
      ]
    },
    {
      "cell_type": "markdown",
      "metadata": {
        "id": "M09YbFlKpsyD"
      },
      "source": [
        "Use the following code cell to implement your model"
      ]
    },
    {
      "cell_type": "code",
      "metadata": {
        "id": "Ybxiy9YDjJY1"
      },
      "source": [
        "def build_model_q7():\n",
        "  #write your code here, define your model\n",
        "  MODELQ7= MultinomialNB()\n",
        "\n",
        "  return MODELQ7"
      ],
      "execution_count": 194,
      "outputs": []
    },
    {
      "cell_type": "markdown",
      "metadata": {
        "id": "vlo2CajIpxXE"
      },
      "source": [
        "Code for evaluating p at k "
      ]
    },
    {
      "cell_type": "code",
      "metadata": {
        "id": "rJNEhP0A6u0E"
      },
      "source": [
        "def calculate_average_precision_at_k(MODELQ7, all_files, training_files, testing_files,k=None):\n",
        "  \n",
        "  training_files = [str(f) for f in open(training_files,mode='r').read().splitlines()]\n",
        "  testing_files = [str(f) for f in open(testing_files,mode='r').read().splitlines()]\n",
        "  if k is None:\n",
        "    k=len(testing_files)\n",
        "\n",
        "  X, y = data_q7(all_files) \n",
        "  X['gt'] = y\n",
        "  training = X.loc[training_files]\n",
        "  X_train = training.loc[:,training.columns!='gt']\n",
        "  y_train = training['gt'].values\n",
        "\n",
        "  testing = X.loc[testing_files]\n",
        "  X_test = testing.loc[:,testing.columns!='gt']\n",
        "  y_test = testing['gt'].values\n",
        "\n",
        "  MODELQ7.fit(X_train,y_train)\n",
        "  y_pred = MODELQ7.predict(X_test)\n",
        "  y_pred_prob = MODELQ7.predict_proba(X_test)\n",
        "  confidences = np.max(y_pred_prob,axis=1)\n",
        "  \n",
        "  p_at_k = []\n",
        "  rel_at_k = []\n",
        "  confidence_order = np.argsort(confidences)\n",
        "  for i in range(1,k+1):\n",
        "    top_confidence = confidence_order[-i:]\n",
        "    pred_top_i = y_pred[top_confidence]\n",
        "    gt_top_i = np.array(y_test)[top_confidence]\n",
        "    p_at_i = np.sum(pred_top_i == gt_top_i)/i\n",
        "    rel_at_i = (pred_top_i[0] == gt_top_i[0])\n",
        "    p_at_k.append(p_at_i)\n",
        "    rel_at_k.append(rel_at_i)\n",
        "  print('average precision at {} is {}'.format(k,np.dot(p_at_k,rel_at_k)/k))\n",
        "  return np.dot(p_at_k,rel_at_k)/k"
      ],
      "execution_count": 195,
      "outputs": []
    },
    {
      "cell_type": "code",
      "metadata": {
        "id": "zoyJdBWUYqBJ",
        "outputId": "9af86cc7-165b-45d4-8bf7-1279afcd961c",
        "colab": {
          "base_uri": "https://localhost:8080/",
          "height": 34
        }
      },
      "source": [
        "# Example usage:\n",
        "m = calculate_average_precision_at_k(MultinomialNB(), all_files, 'training_files_Q7.txt', 'testing_files_Q7.txt')"
      ],
      "execution_count": 197,
      "outputs": [
        {
          "output_type": "stream",
          "text": [
            "average precision at 4000 is 0.553828264527913\n"
          ],
          "name": "stdout"
        }
      ]
    },
    {
      "cell_type": "markdown",
      "metadata": {
        "id": "jOGT3Kh4qutV"
      },
      "source": [
        "##Q7(c)"
      ]
    },
    {
      "cell_type": "markdown",
      "metadata": {
        "id": "ropspYfMsb4y"
      },
      "source": [
        "\n",
        "snowballstemmer, stop words, all the numbers - they all cleaned up the feature word_list\n",
        "\n",
        "Binary encoding - The result is better than TF encoding (and i dont understand why it happens even after i tried different C in logistic classification\n",
        "\n",
        "multinomial NB - more accurate, no overfitting issue\n",
        "\n"
      ]
    }
  ]
}